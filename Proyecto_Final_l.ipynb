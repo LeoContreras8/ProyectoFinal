{
 "cells": [
  {
   "cell_type": "code",
   "execution_count": 1,
   "metadata": {},
   "outputs": [],
   "source": [
    "import pandas as pd\n",
    "import numpy as np\n",
    "import boto3\n",
    "import botocore\n",
    "import pprint\n",
    "import psycopg2\n",
    "import configparser\n",
    "import sql_queries\n",
    "import matplotlib.pyplot as plt"
   ]
  },
  {
   "attachments": {},
   "cell_type": "markdown",
   "metadata": {},
   "source": [
    "### Cargar Archivo"
   ]
  },
  {
   "cell_type": "code",
   "execution_count": 2,
   "metadata": {},
   "outputs": [
    {
     "data": {
      "text/html": [
       "<div>\n",
       "<style scoped>\n",
       "    .dataframe tbody tr th:only-of-type {\n",
       "        vertical-align: middle;\n",
       "    }\n",
       "\n",
       "    .dataframe tbody tr th {\n",
       "        vertical-align: top;\n",
       "    }\n",
       "\n",
       "    .dataframe thead th {\n",
       "        text-align: right;\n",
       "    }\n",
       "</style>\n",
       "<table border=\"1\" class=\"dataframe\">\n",
       "  <thead>\n",
       "    <tr style=\"text-align: right;\">\n",
       "      <th></th>\n",
       "      <th>Rank</th>\n",
       "      <th>Name</th>\n",
       "      <th>Platform</th>\n",
       "      <th>Year</th>\n",
       "      <th>Genre</th>\n",
       "      <th>Publisher</th>\n",
       "      <th>NA_Sales</th>\n",
       "      <th>EU_Sales</th>\n",
       "      <th>JP_Sales</th>\n",
       "      <th>Other_Sales</th>\n",
       "      <th>Global_Sales</th>\n",
       "    </tr>\n",
       "  </thead>\n",
       "  <tbody>\n",
       "    <tr>\n",
       "      <th>0</th>\n",
       "      <td>1</td>\n",
       "      <td>Wii Sports</td>\n",
       "      <td>Wii</td>\n",
       "      <td>2006.0</td>\n",
       "      <td>Sports</td>\n",
       "      <td>Nintendo</td>\n",
       "      <td>41.49</td>\n",
       "      <td>29.02</td>\n",
       "      <td>3.77</td>\n",
       "      <td>8.46</td>\n",
       "      <td>82.74</td>\n",
       "    </tr>\n",
       "    <tr>\n",
       "      <th>1</th>\n",
       "      <td>2</td>\n",
       "      <td>Super Mario Bros.</td>\n",
       "      <td>NES</td>\n",
       "      <td>1985.0</td>\n",
       "      <td>Platform</td>\n",
       "      <td>Nintendo</td>\n",
       "      <td>29.08</td>\n",
       "      <td>3.58</td>\n",
       "      <td>6.81</td>\n",
       "      <td>0.77</td>\n",
       "      <td>40.24</td>\n",
       "    </tr>\n",
       "    <tr>\n",
       "      <th>2</th>\n",
       "      <td>3</td>\n",
       "      <td>Mario Kart Wii</td>\n",
       "      <td>Wii</td>\n",
       "      <td>2008.0</td>\n",
       "      <td>Racing</td>\n",
       "      <td>Nintendo</td>\n",
       "      <td>15.85</td>\n",
       "      <td>12.88</td>\n",
       "      <td>3.79</td>\n",
       "      <td>3.31</td>\n",
       "      <td>35.82</td>\n",
       "    </tr>\n",
       "    <tr>\n",
       "      <th>3</th>\n",
       "      <td>4</td>\n",
       "      <td>Wii Sports Resort</td>\n",
       "      <td>Wii</td>\n",
       "      <td>2009.0</td>\n",
       "      <td>Sports</td>\n",
       "      <td>Nintendo</td>\n",
       "      <td>15.75</td>\n",
       "      <td>11.01</td>\n",
       "      <td>3.28</td>\n",
       "      <td>2.96</td>\n",
       "      <td>33.00</td>\n",
       "    </tr>\n",
       "    <tr>\n",
       "      <th>4</th>\n",
       "      <td>5</td>\n",
       "      <td>Pokemon Red/Pokemon Blue</td>\n",
       "      <td>GB</td>\n",
       "      <td>1996.0</td>\n",
       "      <td>Role-Playing</td>\n",
       "      <td>Nintendo</td>\n",
       "      <td>11.27</td>\n",
       "      <td>8.89</td>\n",
       "      <td>10.22</td>\n",
       "      <td>1.00</td>\n",
       "      <td>31.37</td>\n",
       "    </tr>\n",
       "    <tr>\n",
       "      <th>...</th>\n",
       "      <td>...</td>\n",
       "      <td>...</td>\n",
       "      <td>...</td>\n",
       "      <td>...</td>\n",
       "      <td>...</td>\n",
       "      <td>...</td>\n",
       "      <td>...</td>\n",
       "      <td>...</td>\n",
       "      <td>...</td>\n",
       "      <td>...</td>\n",
       "      <td>...</td>\n",
       "    </tr>\n",
       "    <tr>\n",
       "      <th>16593</th>\n",
       "      <td>16596</td>\n",
       "      <td>Woody Woodpecker in Crazy Castle 5</td>\n",
       "      <td>GBA</td>\n",
       "      <td>2002.0</td>\n",
       "      <td>Platform</td>\n",
       "      <td>Kemco</td>\n",
       "      <td>0.01</td>\n",
       "      <td>0.00</td>\n",
       "      <td>0.00</td>\n",
       "      <td>0.00</td>\n",
       "      <td>0.01</td>\n",
       "    </tr>\n",
       "    <tr>\n",
       "      <th>16594</th>\n",
       "      <td>16597</td>\n",
       "      <td>Men in Black II: Alien Escape</td>\n",
       "      <td>GC</td>\n",
       "      <td>2003.0</td>\n",
       "      <td>Shooter</td>\n",
       "      <td>Infogrames</td>\n",
       "      <td>0.01</td>\n",
       "      <td>0.00</td>\n",
       "      <td>0.00</td>\n",
       "      <td>0.00</td>\n",
       "      <td>0.01</td>\n",
       "    </tr>\n",
       "    <tr>\n",
       "      <th>16595</th>\n",
       "      <td>16598</td>\n",
       "      <td>SCORE International Baja 1000: The Official Game</td>\n",
       "      <td>PS2</td>\n",
       "      <td>2008.0</td>\n",
       "      <td>Racing</td>\n",
       "      <td>Activision</td>\n",
       "      <td>0.00</td>\n",
       "      <td>0.00</td>\n",
       "      <td>0.00</td>\n",
       "      <td>0.00</td>\n",
       "      <td>0.01</td>\n",
       "    </tr>\n",
       "    <tr>\n",
       "      <th>16596</th>\n",
       "      <td>16599</td>\n",
       "      <td>Know How 2</td>\n",
       "      <td>DS</td>\n",
       "      <td>2010.0</td>\n",
       "      <td>Puzzle</td>\n",
       "      <td>7G//AMES</td>\n",
       "      <td>0.00</td>\n",
       "      <td>0.01</td>\n",
       "      <td>0.00</td>\n",
       "      <td>0.00</td>\n",
       "      <td>0.01</td>\n",
       "    </tr>\n",
       "    <tr>\n",
       "      <th>16597</th>\n",
       "      <td>16600</td>\n",
       "      <td>Spirits &amp; Spells</td>\n",
       "      <td>GBA</td>\n",
       "      <td>2003.0</td>\n",
       "      <td>Platform</td>\n",
       "      <td>Wanadoo</td>\n",
       "      <td>0.01</td>\n",
       "      <td>0.00</td>\n",
       "      <td>0.00</td>\n",
       "      <td>0.00</td>\n",
       "      <td>0.01</td>\n",
       "    </tr>\n",
       "  </tbody>\n",
       "</table>\n",
       "<p>16598 rows × 11 columns</p>\n",
       "</div>"
      ],
      "text/plain": [
       "        Rank                                              Name Platform  \\\n",
       "0          1                                        Wii Sports      Wii   \n",
       "1          2                                 Super Mario Bros.      NES   \n",
       "2          3                                    Mario Kart Wii      Wii   \n",
       "3          4                                 Wii Sports Resort      Wii   \n",
       "4          5                          Pokemon Red/Pokemon Blue       GB   \n",
       "...      ...                                               ...      ...   \n",
       "16593  16596                Woody Woodpecker in Crazy Castle 5      GBA   \n",
       "16594  16597                     Men in Black II: Alien Escape       GC   \n",
       "16595  16598  SCORE International Baja 1000: The Official Game      PS2   \n",
       "16596  16599                                        Know How 2       DS   \n",
       "16597  16600                                  Spirits & Spells      GBA   \n",
       "\n",
       "         Year         Genre   Publisher  NA_Sales  EU_Sales  JP_Sales  \\\n",
       "0      2006.0        Sports    Nintendo     41.49     29.02      3.77   \n",
       "1      1985.0      Platform    Nintendo     29.08      3.58      6.81   \n",
       "2      2008.0        Racing    Nintendo     15.85     12.88      3.79   \n",
       "3      2009.0        Sports    Nintendo     15.75     11.01      3.28   \n",
       "4      1996.0  Role-Playing    Nintendo     11.27      8.89     10.22   \n",
       "...       ...           ...         ...       ...       ...       ...   \n",
       "16593  2002.0      Platform       Kemco      0.01      0.00      0.00   \n",
       "16594  2003.0       Shooter  Infogrames      0.01      0.00      0.00   \n",
       "16595  2008.0        Racing  Activision      0.00      0.00      0.00   \n",
       "16596  2010.0        Puzzle    7G//AMES      0.00      0.01      0.00   \n",
       "16597  2003.0      Platform     Wanadoo      0.01      0.00      0.00   \n",
       "\n",
       "       Other_Sales  Global_Sales  \n",
       "0             8.46         82.74  \n",
       "1             0.77         40.24  \n",
       "2             3.31         35.82  \n",
       "3             2.96         33.00  \n",
       "4             1.00         31.37  \n",
       "...            ...           ...  \n",
       "16593         0.00          0.01  \n",
       "16594         0.00          0.01  \n",
       "16595         0.00          0.01  \n",
       "16596         0.00          0.01  \n",
       "16597         0.00          0.01  \n",
       "\n",
       "[16598 rows x 11 columns]"
      ]
     },
     "execution_count": 2,
     "metadata": {},
     "output_type": "execute_result"
    }
   ],
   "source": [
    "dataset=pd.DataFrame(pd.read_csv(\"vgsales.csv\"))\n",
    "dataset"
   ]
  },
  {
   "attachments": {},
   "cell_type": "markdown",
   "metadata": {},
   "source": [
    "### Explorar Datos"
   ]
  },
  {
   "cell_type": "code",
   "execution_count": 3,
   "metadata": {},
   "outputs": [
    {
     "data": {
      "text/plain": [
       "Index(['Rank', 'Name', 'Platform', 'Year', 'Genre', 'Publisher', 'NA_Sales',\n",
       "       'EU_Sales', 'JP_Sales', 'Other_Sales', 'Global_Sales'],\n",
       "      dtype='object')"
      ]
     },
     "execution_count": 3,
     "metadata": {},
     "output_type": "execute_result"
    }
   ],
   "source": [
    "##Columnas\n",
    "dataset.columns"
   ]
  },
  {
   "cell_type": "code",
   "execution_count": 4,
   "metadata": {},
   "outputs": [
    {
     "data": {
      "text/plain": [
       "Index(['rank', 'name', 'platform', 'year', 'genre', 'publisher', 'na_sales',\n",
       "       'eu_sales', 'jp_sales', 'other_sales', 'global_sales'],\n",
       "      dtype='object')"
      ]
     },
     "execution_count": 4,
     "metadata": {},
     "output_type": "execute_result"
    }
   ],
   "source": [
    "##Estandarizar nombres de columnas (minusculas)\n",
    "dataset.columns= dataset.columns.str.lower()\n",
    "dataset.columns"
   ]
  },
  {
   "cell_type": "code",
   "execution_count": 5,
   "metadata": {},
   "outputs": [
    {
     "data": {
      "text/plain": [
       "rank              int64\n",
       "name             object\n",
       "platform         object\n",
       "year            float64\n",
       "genre            object\n",
       "publisher        object\n",
       "na_sales        float64\n",
       "eu_sales        float64\n",
       "jp_sales        float64\n",
       "other_sales     float64\n",
       "global_sales    float64\n",
       "dtype: object"
      ]
     },
     "execution_count": 5,
     "metadata": {},
     "output_type": "execute_result"
    }
   ],
   "source": [
    "##Tipo Datos\n",
    "dataset.dtypes"
   ]
  },
  {
   "cell_type": "code",
   "execution_count": 6,
   "metadata": {},
   "outputs": [
    {
     "data": {
      "text/plain": [
       "(16598, 11)"
      ]
     },
     "execution_count": 6,
     "metadata": {},
     "output_type": "execute_result"
    }
   ],
   "source": [
    "##Cantidad de registros y forma\n",
    "dataset.shape"
   ]
  },
  {
   "cell_type": "code",
   "execution_count": 7,
   "metadata": {},
   "outputs": [
    {
     "name": "stdout",
     "output_type": "stream",
     "text": [
      "11493\n"
     ]
    }
   ],
   "source": [
    "##Valores Unicos Name\n",
    "dist_name=len(dataset['name'].unique())\n",
    "print(dist_name)"
   ]
  },
  {
   "cell_type": "code",
   "execution_count": 9,
   "metadata": {},
   "outputs": [
    {
     "name": "stdout",
     "output_type": "stream",
     "text": [
      "12\n"
     ]
    }
   ],
   "source": [
    "##Valores Unicos Genero\n",
    "dist_gene=len(dataset['genre'].unique())\n",
    "print(dist_gene)"
   ]
  },
  {
   "cell_type": "code",
   "execution_count": 10,
   "metadata": {},
   "outputs": [
    {
     "name": "stdout",
     "output_type": "stream",
     "text": [
      "31\n"
     ]
    }
   ],
   "source": [
    "##Valores Unicos Plataforma\n",
    "dist_plat=len(dataset['platform'].unique())\n",
    "print(dist_plat)"
   ]
  },
  {
   "cell_type": "code",
   "execution_count": 11,
   "metadata": {},
   "outputs": [
    {
     "name": "stdout",
     "output_type": "stream",
     "text": [
      "579\n"
     ]
    }
   ],
   "source": [
    "##Valores Unicos Publisher\n",
    "dist_pub=len(dataset['publisher'].unique())\n",
    "print(dist_pub)"
   ]
  },
  {
   "cell_type": "code",
   "execution_count": 12,
   "metadata": {},
   "outputs": [
    {
     "name": "stdout",
     "output_type": "stream",
     "text": [
      "40\n"
     ]
    }
   ],
   "source": [
    "##Valores Unicos Año\n",
    "dist_year=len(dataset['year'].unique())\n",
    "print(dist_year)"
   ]
  },
  {
   "cell_type": "code",
   "execution_count": 13,
   "metadata": {},
   "outputs": [
    {
     "data": {
      "text/plain": [
       "rank            False\n",
       "name            False\n",
       "platform        False\n",
       "year             True\n",
       "genre           False\n",
       "publisher        True\n",
       "na_sales        False\n",
       "eu_sales        False\n",
       "jp_sales        False\n",
       "other_sales     False\n",
       "global_sales    False\n",
       "dtype: bool"
      ]
     },
     "execution_count": 13,
     "metadata": {},
     "output_type": "execute_result"
    }
   ],
   "source": [
    "##Se verifica si existen valores nulos en cada columna del dataset\n",
    "dataset.isnull().any()"
   ]
  },
  {
   "cell_type": "code",
   "execution_count": 14,
   "metadata": {},
   "outputs": [],
   "source": [
    "##Sustituir valores Nulos en Year\n",
    "dataset['year'].fillna(9999, inplace=True)"
   ]
  },
  {
   "cell_type": "code",
   "execution_count": 15,
   "metadata": {},
   "outputs": [],
   "source": [
    "##Sustituir valores Nulos en Publisher\n",
    "dataset['publisher'].fillna('Valor Nulo', inplace=True)"
   ]
  },
  {
   "attachments": {},
   "cell_type": "markdown",
   "metadata": {},
   "source": [
    "#### Crear Dimension Producto"
   ]
  },
  {
   "cell_type": "code",
   "execution_count": 28,
   "metadata": {},
   "outputs": [],
   "source": [
    "name_=pd.DataFrame(dataset['name']).drop_duplicates() # Se eliminan los duplicados y se convierte en DataFrame\n",
    "name_.index.name='index' #Se establecen la columna de índice\n",
    "name_['id_product']=pd.factorize(name_['name'], sort=True)[0]+1 #Se crea la columna id con valores únicos que identificarán los productos\n",
    "dim_product=name_.sort_values('name', ascending=True).reset_index(drop=True) #Se ordenan los valores y se reinician los valores de los índices.\n"
   ]
  },
  {
   "attachments": {},
   "cell_type": "markdown",
   "metadata": {},
   "source": [
    "#### Crear dataset de Dimension Genero"
   ]
  },
  {
   "cell_type": "code",
   "execution_count": 18,
   "metadata": {},
   "outputs": [],
   "source": [
    "id_genero=(np.arange(1,dist_gene+1,1)) ##Se crea el ID como un arreglo de 1 hasta la cantidad de valores unicos\n",
    "genero=dataset['genre'].unique() ##Se extraen los valores unicos\n",
    "genre={'id_genero':id_genero,'genre':genero} ##Se crea un diccionario con las variables anteriores\n",
    "\n",
    "dim_genero=pd.DataFrame(genre) ##Se convierte el diccionario en data frame\n",
    "\n"
   ]
  },
  {
   "attachments": {},
   "cell_type": "markdown",
   "metadata": {},
   "source": [
    "#### Crear dataset de Dimension Plataforma"
   ]
  },
  {
   "cell_type": "code",
   "execution_count": 20,
   "metadata": {},
   "outputs": [],
   "source": [
    "id_plataforma=(np.arange(1,dist_plat+1,1)) ##Se crea el ID como un arreglo de 1 hasta la cantidad de valores unicos\n",
    "plataforma=dataset['platform'].unique() ##Se extraen los valores unicos\n",
    "platform={'id_plataforma':id_plataforma,'platform':plataforma} ##Se crea un diccionario con las variables anteriores\n",
    "\n",
    "dim_plataforma=pd.DataFrame(platform) ##Se convierte el diccionario en data frame\n",
    "\n"
   ]
  },
  {
   "attachments": {},
   "cell_type": "markdown",
   "metadata": {},
   "source": [
    "#### Crear dataset de Dimension Publisher"
   ]
  },
  {
   "cell_type": "code",
   "execution_count": 22,
   "metadata": {},
   "outputs": [],
   "source": [
    "id_publisher=(np.arange(1,dist_pub+1,1)) ##Se crea el ID como un arreglo de 1 hasta la cantidad de valores unicos\n",
    "publisher=dataset['publisher'].unique() ##Se extraen los valores unicos\n",
    "editora={'id_publisher':id_publisher,'publisher':publisher} ##Se crea un diccionario con las variables anteriores\n",
    "\n",
    "dim_publisher=pd.DataFrame(editora) ##Se convierte el diccionario en data frame\n"
   ]
  },
  {
   "attachments": {},
   "cell_type": "markdown",
   "metadata": {},
   "source": [
    "#### Crear dataset de Dimension Año"
   ]
  },
  {
   "cell_type": "code",
   "execution_count": 24,
   "metadata": {},
   "outputs": [],
   "source": [
    "anios=dataset['year']=dataset['year'].astype('Int64') #Se convierten los datos a números enteros\n",
    "anios=pd.DataFrame(anios) #Se convierte en un DataFrame\n",
    "intervalos = [0,1979,1990,2000,2010,2020,2030] #Se establecen los criterios de los intervalos\n",
    "etiquetas = ['Unknown','1980-1989','1990-1999','2000-2009','2010-2019', '2020-2029'] #Se establecen las etiquetas de los intervalos\n",
    "anios['year']=anios['year'].drop_duplicates() #Se quitan duplicados\n",
    "anios=anios.dropna() #Se quitan valores vacíos\n",
    "anios.index.name='index' #Se define la columna index como índice\n",
    "anios['category_year']=pd.cut(anios['year'],bins=intervalos,labels=etiquetas, duplicates= 'drop', include_lowest=True, right=False).fillna('Unknown') #Se realiza la segmentación o binning para poder aplicar intervalos dentro del DataFrame\n",
    "anios['id_category']=pd.factorize(anios['category_year'], sort=True)[0]+1 #Se establece la columna de ids\n",
    "dim_year=anios.sort_values('year', ascending=True).reset_index(drop=True) #Se ordenan y se reinicia el conteo\n",
    "dim_year.to_excel('dim_year.xlsx', index=False) #Se exporta a un documento formato Excel.\n",
    "\n"
   ]
  },
  {
   "attachments": {},
   "cell_type": "markdown",
   "metadata": {},
   "source": [
    "#### Crear dataset de Fact Table"
   ]
  },
  {
   "cell_type": "code",
   "execution_count": 30,
   "metadata": {},
   "outputs": [],
   "source": [
    "\n",
    "dataset_prod=dataset.merge(dim_product,on='name',how='inner') ##Merge del dataset para colocar ID_Producto a la Fact\n",
    "dataset_prod_gen=dataset_prod.merge(dim_genero,on='genre',how='inner') ##Merge de dataset nuevo para colocar ID_Genero a la Fact\n",
    "dataset_prod_gen_plat=dataset_prod_gen.merge(dim_plataforma,on='platform',how='inner') ##Merge de dataset nuevo para colocar ID_Plataforma a la Fact\n",
    "dataset_prod_gen_plat_pub=dataset_prod_gen_plat.merge(dim_publisher,on='publisher',how='inner') ##Merge de dataset nuevo para colocar ID_Publisher a la Fact\n",
    "dataset_prod_gen_plat_pub['id_sales']=pd.factorize(dataset_prod_gen_plat_pub['rank'], sort=True)[0]+1 ##Se crea el ID de la Fact table como un arreglo de 1 hasta la cantidad de registros\n",
    "dataset_prod_gen_plat_pub.drop(['name','platform','genre','publisher',],axis=1,inplace=True) ##Eliminar columnas para solo dejar Ids\n",
    "\n"
   ]
  },
  {
   "cell_type": "code",
   "execution_count": 31,
   "metadata": {},
   "outputs": [],
   "source": [
    "fact_sales=dataset_prod_gen_plat_pub[['id_sales','id_product','id_plataforma','year','id_genero','id_publisher','na_sales','eu_sales',\n",
    "                                      'jp_sales','other_sales','global_sales','rank']] ##Ordenar la tabla de Hechos\n",
    "\n",
    "fact_sales.to_excel('fact_sales.xlsx',index=False) ##Se vuelve archivo a excel para cargar a S3"
   ]
  },
  {
   "attachments": {},
   "cell_type": "markdown",
   "metadata": {},
   "source": [
    "## Creación Base de datos"
   ]
  },
  {
   "attachments": {},
   "cell_type": "markdown",
   "metadata": {},
   "source": [
    "#### Iniciación de Variables"
   ]
  },
  {
   "cell_type": "code",
   "execution_count": 33,
   "metadata": {},
   "outputs": [],
   "source": [
    "rdsIdentifier = 'vgames-db' #nombre de la instancia"
   ]
  },
  {
   "attachments": {},
   "cell_type": "markdown",
   "metadata": {},
   "source": [
    "#### Cargamos archivo de configuraciones"
   ]
  },
  {
   "cell_type": "code",
   "execution_count": 34,
   "metadata": {},
   "outputs": [
    {
     "data": {
      "text/plain": [
       "['escec.cfg']"
      ]
     },
     "execution_count": 34,
     "metadata": {},
     "output_type": "execute_result"
    }
   ],
   "source": [
    "config = configparser.ConfigParser()\n",
    "config.read('escec.cfg')"
   ]
  },
  {
   "attachments": {},
   "cell_type": "markdown",
   "metadata": {},
   "source": [
    "### Creamos Instancia de RDS"
   ]
  },
  {
   "cell_type": "code",
   "execution_count": 35,
   "metadata": {},
   "outputs": [],
   "source": [
    "aws_conn = boto3.client('rds', aws_access_key_id=config.get('IAM', 'ACCESS_KEY'),\n",
    "                     aws_secret_access_key=config.get('IAM', 'SECRET_ACCESS_KEY'),\n",
    "                     region_name='us-east-1')"
   ]
  },
  {
   "attachments": {},
   "cell_type": "markdown",
   "metadata": {},
   "source": [
    "#### Verificamos Instancias de RDS disponibles"
   ]
  },
  {
   "cell_type": "code",
   "execution_count": 36,
   "metadata": {},
   "outputs": [
    {
     "name": "stdout",
     "output_type": "stream",
     "text": [
      "DBInstanceIds []\n"
     ]
    }
   ],
   "source": [
    "rdsInstanceIds = []\n",
    "\n",
    "response = aws_conn.describe_db_instances()\n",
    "for resp in response['DBInstances']:\n",
    "    rdsInstanceIds.append(resp['DBInstanceIdentifier'])\n",
    "    db_instance_status = resp['DBInstanceStatus']\n",
    "\n",
    "print(f\"DBInstanceIds {rdsInstanceIds}\")"
   ]
  },
  {
   "attachments": {},
   "cell_type": "markdown",
   "metadata": {},
   "source": [
    "#### Creación de Servicio RDS"
   ]
  },
  {
   "cell_type": "code",
   "execution_count": 37,
   "metadata": {},
   "outputs": [
    {
     "name": "stdout",
     "output_type": "stream",
     "text": [
      "{'DBInstance': {'DBInstanceIdentifier': 'vgames-db', 'DBInstanceClass': 'db.t3.micro', 'Engine': 'postgres', 'DBInstanceStatus': 'creating', 'MasterUsername': 'postgres', 'DBName': 'vgames', 'AllocatedStorage': 10, 'PreferredBackupWindow': '03:04-03:34', 'BackupRetentionPeriod': 1, 'DBSecurityGroups': [], 'VpcSecurityGroups': [{'VpcSecurityGroupId': 'sg-036ba0820455ce709', 'Status': 'active'}], 'DBParameterGroups': [{'DBParameterGroupName': 'default.postgres14', 'ParameterApplyStatus': 'in-sync'}], 'DBSubnetGroup': {'DBSubnetGroupName': 'default', 'DBSubnetGroupDescription': 'default', 'VpcId': 'vpc-04ac9ef15dc618b27', 'SubnetGroupStatus': 'Complete', 'Subnets': [{'SubnetIdentifier': 'subnet-0734903500d5b9511', 'SubnetAvailabilityZone': {'Name': 'us-east-1d'}, 'SubnetOutpost': {}, 'SubnetStatus': 'Active'}, {'SubnetIdentifier': 'subnet-0ed2d221569e48546', 'SubnetAvailabilityZone': {'Name': 'us-east-1c'}, 'SubnetOutpost': {}, 'SubnetStatus': 'Active'}, {'SubnetIdentifier': 'subnet-0630a5d8638e95186', 'SubnetAvailabilityZone': {'Name': 'us-east-1f'}, 'SubnetOutpost': {}, 'SubnetStatus': 'Active'}, {'SubnetIdentifier': 'subnet-03d0d9910efe1d6df', 'SubnetAvailabilityZone': {'Name': 'us-east-1b'}, 'SubnetOutpost': {}, 'SubnetStatus': 'Active'}, {'SubnetIdentifier': 'subnet-09337ded6a41b766c', 'SubnetAvailabilityZone': {'Name': 'us-east-1a'}, 'SubnetOutpost': {}, 'SubnetStatus': 'Active'}, {'SubnetIdentifier': 'subnet-0d4b95e5d2ce2b1f1', 'SubnetAvailabilityZone': {'Name': 'us-east-1e'}, 'SubnetOutpost': {}, 'SubnetStatus': 'Active'}]}, 'PreferredMaintenanceWindow': 'fri:08:20-fri:08:50', 'PendingModifiedValues': {'MasterUserPassword': '****'}, 'MultiAZ': False, 'EngineVersion': '14.6', 'AutoMinorVersionUpgrade': True, 'ReadReplicaDBInstanceIdentifiers': [], 'LicenseModel': 'postgresql-license', 'OptionGroupMemberships': [{'OptionGroupName': 'default:postgres-14', 'Status': 'in-sync'}], 'PubliclyAccessible': True, 'StorageType': 'gp2', 'DbInstancePort': 0, 'StorageEncrypted': False, 'DbiResourceId': 'db-J3IFFDPZSPDODUW7VRKW6SNPDE', 'CACertificateIdentifier': 'rds-ca-2019', 'DomainMemberships': [], 'CopyTagsToSnapshot': False, 'MonitoringInterval': 0, 'DBInstanceArn': 'arn:aws:rds:us-east-1:255323119497:db:vgames-db', 'IAMDatabaseAuthenticationEnabled': False, 'PerformanceInsightsEnabled': False, 'DeletionProtection': False, 'AssociatedRoles': [], 'TagList': [], 'CustomerOwnedIpEnabled': False, 'BackupTarget': 'region', 'NetworkType': 'IPV4'}, 'ResponseMetadata': {'RequestId': 'ee06bc2e-fc69-4adb-b303-84d243a2fa67', 'HTTPStatusCode': 200, 'HTTPHeaders': {'x-amzn-requestid': 'ee06bc2e-fc69-4adb-b303-84d243a2fa67', 'strict-transport-security': 'max-age=31536000', 'content-type': 'text/xml', 'content-length': '5204', 'date': 'Wed, 05 Apr 2023 22:36:32 GMT'}, 'RetryAttempts': 0}}\n"
     ]
    }
   ],
   "source": [
    "try:\n",
    "    response = aws_conn.create_db_instance(\n",
    "            AllocatedStorage=10,\n",
    "            DBName=config.get('RDS', 'DB_NAME'),\n",
    "            DBInstanceIdentifier=rdsIdentifier,\n",
    "            DBInstanceClass=\"db.t3.micro\",\n",
    "            Engine=\"postgres\",\n",
    "            MasterUsername=config.get('RDS', 'DB_USER'),\n",
    "            MasterUserPassword=config.get('RDS', 'DB_PASSWORD'),\n",
    "            Port=int(config.get('RDS', 'DB_PORT')),\n",
    "            VpcSecurityGroupIds=[config.get('VPC', 'SECURITY_GROUP')],\n",
    "            PubliclyAccessible=True\n",
    "        )\n",
    "    print(response)\n",
    "except aws_conn.exceptions.DBInstanceAlreadyExistsFault as ex:\n",
    "    print(\"La Instancia de Base de Datos ya Existe.\")\n",
    "\n",
    "##Esperar para consultar información de la instancia"
   ]
  },
  {
   "attachments": {},
   "cell_type": "markdown",
   "metadata": {},
   "source": [
    "##### Obtenemos URL del Host"
   ]
  },
  {
   "cell_type": "code",
   "execution_count": 39,
   "metadata": {},
   "outputs": [
    {
     "name": "stdout",
     "output_type": "stream",
     "text": [
      "vgames-db.c1o7eqlyitvy.us-east-1.rds.amazonaws.com\n"
     ]
    }
   ],
   "source": [
    "try:\n",
    "     instances = aws_conn.describe_db_instances(DBInstanceIdentifier=rdsIdentifier)\n",
    "     RDS_HOST = instances.get('DBInstances')[0].get('Endpoint').get('Address')\n",
    "     print(RDS_HOST)\n",
    "except Exception as ex:\n",
    "     print(\"La instancia de base de datos no existe o aun no se ha terminado de crear.\")\n",
    "     print(ex)"
   ]
  },
  {
   "attachments": {},
   "cell_type": "markdown",
   "metadata": {},
   "source": [
    "##### Conexión a Base de Datos desde Python"
   ]
  },
  {
   "cell_type": "code",
   "execution_count": 40,
   "metadata": {},
   "outputs": [
    {
     "name": "stdout",
     "output_type": "stream",
     "text": [
      "Base de Datos Creada Exitosamente\n"
     ]
    }
   ],
   "source": [
    "import sql_queries\n",
    "\n",
    "try:\n",
    "    db_conn = psycopg2.connect(\n",
    "        database=config.get('RDS', 'DB_NAME'), \n",
    "        user=config.get('RDS', 'DB_USER'),\n",
    "        password=config.get('RDS', 'DB_PASSWORD'), \n",
    "        host=RDS_HOST,\n",
    "        port=config.get('RDS', 'DB_PORT')\n",
    "    )\n",
    "\n",
    "    cursor = db_conn.cursor()\n",
    "    cursor.execute(sql_queries.DDL_QUERY)\n",
    "    db_conn.commit()\n",
    "    print(\"Base de Datos Creada Exitosamente\")\n",
    "except Exception as ex:\n",
    "    print(\"ERROR: Error al crear la base de datos.\")\n",
    "    print(ex)"
   ]
  },
  {
   "attachments": {},
   "cell_type": "markdown",
   "metadata": {},
   "source": [
    "##### Insertamos Datos en las Tablas"
   ]
  },
  {
   "attachments": {},
   "cell_type": "markdown",
   "metadata": {},
   "source": [
    "###### Se crea funcion para instertar datos"
   ]
  },
  {
   "cell_type": "code",
   "execution_count": 41,
   "metadata": {},
   "outputs": [],
   "source": [
    "def insertDataToSQL(df_data, table_name):\n",
    "     postgres_driver = f\"\"\"postgresql://{config.get('RDS', 'DB_USER')}:{config.get('RDS', 'DB_PASSWORD')}@{RDS_HOST}:{config.get('RDS', 'DB_PORT')}/{config.get('RDS', 'DB_NAME')}\"\"\"    \n",
    "     \n",
    "     try:\n",
    "          response = df_data.to_sql(table_name, postgres_driver, index=False, if_exists='append')\n",
    "          print(f'Se han insertado {response} nuevos registros.' )\n",
    "     except Exception as ex:\n",
    "          print(ex)"
   ]
  },
  {
   "attachments": {},
   "cell_type": "markdown",
   "metadata": {},
   "source": [
    "###### Se insertan datos en Dimension Producto"
   ]
  },
  {
   "cell_type": "code",
   "execution_count": 42,
   "metadata": {},
   "outputs": [
    {
     "name": "stdout",
     "output_type": "stream",
     "text": [
      "Se han insertado 493 nuevos registros.\n"
     ]
    }
   ],
   "source": [
    "insertDataToSQL(dim_product,'dim_product')"
   ]
  },
  {
   "attachments": {},
   "cell_type": "markdown",
   "metadata": {},
   "source": [
    "###### Se insertan datos en Dimension Genero"
   ]
  },
  {
   "cell_type": "code",
   "execution_count": 43,
   "metadata": {},
   "outputs": [
    {
     "name": "stdout",
     "output_type": "stream",
     "text": [
      "Se han insertado 12 nuevos registros.\n"
     ]
    }
   ],
   "source": [
    "insertDataToSQL(dim_genero,'dim_genero')"
   ]
  },
  {
   "attachments": {},
   "cell_type": "markdown",
   "metadata": {},
   "source": [
    "###### Se insertan datos en Dimension Plataforma"
   ]
  },
  {
   "cell_type": "code",
   "execution_count": 44,
   "metadata": {},
   "outputs": [
    {
     "name": "stdout",
     "output_type": "stream",
     "text": [
      "Se han insertado 31 nuevos registros.\n"
     ]
    }
   ],
   "source": [
    "insertDataToSQL(dim_plataforma,'dim_plataforma')"
   ]
  },
  {
   "attachments": {},
   "cell_type": "markdown",
   "metadata": {},
   "source": [
    "###### Se insertan datos en Dimension Publisher"
   ]
  },
  {
   "cell_type": "code",
   "execution_count": 45,
   "metadata": {},
   "outputs": [
    {
     "name": "stdout",
     "output_type": "stream",
     "text": [
      "Se han insertado 579 nuevos registros.\n"
     ]
    }
   ],
   "source": [
    "insertDataToSQL(dim_publisher,'dim_publisher')"
   ]
  },
  {
   "attachments": {},
   "cell_type": "markdown",
   "metadata": {},
   "source": [
    "##### Lectura de Archivo desde S3 para dimension Año y Fact Table"
   ]
  },
  {
   "cell_type": "code",
   "execution_count": 46,
   "metadata": {},
   "outputs": [],
   "source": [
    "s3 = boto3.resource(\n",
    "    service_name = 's3',\n",
    "    region_name = 'us-east-1',\n",
    "    aws_access_key_id = config.get('IAM', 'ACCESS_KEY'),\n",
    "    aws_secret_access_key = config.get('IAM', 'SECRET_ACCESS_KEY')\n",
    ")"
   ]
  },
  {
   "cell_type": "code",
   "execution_count": 47,
   "metadata": {},
   "outputs": [
    {
     "name": "stdout",
     "output_type": "stream",
     "text": [
      "bucket-proy-final\n"
     ]
    }
   ],
   "source": [
    "for bucket in s3.buckets.all():\n",
    "    S3_BUCKET_NAME = bucket.name\n",
    "    print(bucket.name)"
   ]
  },
  {
   "cell_type": "code",
   "execution_count": 48,
   "metadata": {},
   "outputs": [
    {
     "data": {
      "text/plain": [
       "['dim_year.xlsx', 'fact_sales.xlsx']"
      ]
     },
     "execution_count": 48,
     "metadata": {},
     "output_type": "execute_result"
    }
   ],
   "source": [
    "#extraemos todo lo que está en el bucket para dim_year\n",
    "S3_BUCKET_NAME = 'bucket-proy-final' ##Ingresar el nombre del bucket\n",
    "\n",
    "remoteFileList = []\n",
    "for objt in s3.Bucket(S3_BUCKET_NAME).objects.all():\n",
    "    remoteFileList.append(objt.key)\n",
    "\n",
    "remoteFileList"
   ]
  },
  {
   "attachments": {},
   "cell_type": "markdown",
   "metadata": {},
   "source": [
    "###### Leer data de S3 para dim_year"
   ]
  },
  {
   "cell_type": "code",
   "execution_count": 49,
   "metadata": {},
   "outputs": [
    {
     "data": {
      "text/html": [
       "<div>\n",
       "<style scoped>\n",
       "    .dataframe tbody tr th:only-of-type {\n",
       "        vertical-align: middle;\n",
       "    }\n",
       "\n",
       "    .dataframe tbody tr th {\n",
       "        vertical-align: top;\n",
       "    }\n",
       "\n",
       "    .dataframe thead th {\n",
       "        text-align: right;\n",
       "    }\n",
       "</style>\n",
       "<table border=\"1\" class=\"dataframe\">\n",
       "  <thead>\n",
       "    <tr style=\"text-align: right;\">\n",
       "      <th></th>\n",
       "      <th>year</th>\n",
       "      <th>category_year</th>\n",
       "      <th>id_category</th>\n",
       "    </tr>\n",
       "  </thead>\n",
       "  <tbody>\n",
       "    <tr>\n",
       "      <th>0</th>\n",
       "      <td>1980</td>\n",
       "      <td>1980-1989</td>\n",
       "      <td>2</td>\n",
       "    </tr>\n",
       "    <tr>\n",
       "      <th>1</th>\n",
       "      <td>1981</td>\n",
       "      <td>1980-1989</td>\n",
       "      <td>2</td>\n",
       "    </tr>\n",
       "    <tr>\n",
       "      <th>2</th>\n",
       "      <td>1982</td>\n",
       "      <td>1980-1989</td>\n",
       "      <td>2</td>\n",
       "    </tr>\n",
       "    <tr>\n",
       "      <th>3</th>\n",
       "      <td>1983</td>\n",
       "      <td>1980-1989</td>\n",
       "      <td>2</td>\n",
       "    </tr>\n",
       "    <tr>\n",
       "      <th>4</th>\n",
       "      <td>1984</td>\n",
       "      <td>1980-1989</td>\n",
       "      <td>2</td>\n",
       "    </tr>\n",
       "    <tr>\n",
       "      <th>5</th>\n",
       "      <td>1985</td>\n",
       "      <td>1980-1989</td>\n",
       "      <td>2</td>\n",
       "    </tr>\n",
       "    <tr>\n",
       "      <th>6</th>\n",
       "      <td>1986</td>\n",
       "      <td>1980-1989</td>\n",
       "      <td>2</td>\n",
       "    </tr>\n",
       "    <tr>\n",
       "      <th>7</th>\n",
       "      <td>1987</td>\n",
       "      <td>1980-1989</td>\n",
       "      <td>2</td>\n",
       "    </tr>\n",
       "    <tr>\n",
       "      <th>8</th>\n",
       "      <td>1988</td>\n",
       "      <td>1980-1989</td>\n",
       "      <td>2</td>\n",
       "    </tr>\n",
       "    <tr>\n",
       "      <th>9</th>\n",
       "      <td>1989</td>\n",
       "      <td>1980-1989</td>\n",
       "      <td>2</td>\n",
       "    </tr>\n",
       "    <tr>\n",
       "      <th>10</th>\n",
       "      <td>1990</td>\n",
       "      <td>1990-1999</td>\n",
       "      <td>3</td>\n",
       "    </tr>\n",
       "    <tr>\n",
       "      <th>11</th>\n",
       "      <td>1991</td>\n",
       "      <td>1990-1999</td>\n",
       "      <td>3</td>\n",
       "    </tr>\n",
       "    <tr>\n",
       "      <th>12</th>\n",
       "      <td>1992</td>\n",
       "      <td>1990-1999</td>\n",
       "      <td>3</td>\n",
       "    </tr>\n",
       "    <tr>\n",
       "      <th>13</th>\n",
       "      <td>1993</td>\n",
       "      <td>1990-1999</td>\n",
       "      <td>3</td>\n",
       "    </tr>\n",
       "    <tr>\n",
       "      <th>14</th>\n",
       "      <td>1994</td>\n",
       "      <td>1990-1999</td>\n",
       "      <td>3</td>\n",
       "    </tr>\n",
       "    <tr>\n",
       "      <th>15</th>\n",
       "      <td>1995</td>\n",
       "      <td>1990-1999</td>\n",
       "      <td>3</td>\n",
       "    </tr>\n",
       "    <tr>\n",
       "      <th>16</th>\n",
       "      <td>1996</td>\n",
       "      <td>1990-1999</td>\n",
       "      <td>3</td>\n",
       "    </tr>\n",
       "    <tr>\n",
       "      <th>17</th>\n",
       "      <td>1997</td>\n",
       "      <td>1990-1999</td>\n",
       "      <td>3</td>\n",
       "    </tr>\n",
       "    <tr>\n",
       "      <th>18</th>\n",
       "      <td>1998</td>\n",
       "      <td>1990-1999</td>\n",
       "      <td>3</td>\n",
       "    </tr>\n",
       "    <tr>\n",
       "      <th>19</th>\n",
       "      <td>1999</td>\n",
       "      <td>1990-1999</td>\n",
       "      <td>3</td>\n",
       "    </tr>\n",
       "    <tr>\n",
       "      <th>20</th>\n",
       "      <td>2000</td>\n",
       "      <td>2000-2009</td>\n",
       "      <td>4</td>\n",
       "    </tr>\n",
       "    <tr>\n",
       "      <th>21</th>\n",
       "      <td>2001</td>\n",
       "      <td>2000-2009</td>\n",
       "      <td>4</td>\n",
       "    </tr>\n",
       "    <tr>\n",
       "      <th>22</th>\n",
       "      <td>2002</td>\n",
       "      <td>2000-2009</td>\n",
       "      <td>4</td>\n",
       "    </tr>\n",
       "    <tr>\n",
       "      <th>23</th>\n",
       "      <td>2003</td>\n",
       "      <td>2000-2009</td>\n",
       "      <td>4</td>\n",
       "    </tr>\n",
       "    <tr>\n",
       "      <th>24</th>\n",
       "      <td>2004</td>\n",
       "      <td>2000-2009</td>\n",
       "      <td>4</td>\n",
       "    </tr>\n",
       "    <tr>\n",
       "      <th>25</th>\n",
       "      <td>2005</td>\n",
       "      <td>2000-2009</td>\n",
       "      <td>4</td>\n",
       "    </tr>\n",
       "    <tr>\n",
       "      <th>26</th>\n",
       "      <td>2006</td>\n",
       "      <td>2000-2009</td>\n",
       "      <td>4</td>\n",
       "    </tr>\n",
       "    <tr>\n",
       "      <th>27</th>\n",
       "      <td>2007</td>\n",
       "      <td>2000-2009</td>\n",
       "      <td>4</td>\n",
       "    </tr>\n",
       "    <tr>\n",
       "      <th>28</th>\n",
       "      <td>2008</td>\n",
       "      <td>2000-2009</td>\n",
       "      <td>4</td>\n",
       "    </tr>\n",
       "    <tr>\n",
       "      <th>29</th>\n",
       "      <td>2009</td>\n",
       "      <td>2000-2009</td>\n",
       "      <td>4</td>\n",
       "    </tr>\n",
       "    <tr>\n",
       "      <th>30</th>\n",
       "      <td>2010</td>\n",
       "      <td>2010-2019</td>\n",
       "      <td>5</td>\n",
       "    </tr>\n",
       "    <tr>\n",
       "      <th>31</th>\n",
       "      <td>2011</td>\n",
       "      <td>2010-2019</td>\n",
       "      <td>5</td>\n",
       "    </tr>\n",
       "    <tr>\n",
       "      <th>32</th>\n",
       "      <td>2012</td>\n",
       "      <td>2010-2019</td>\n",
       "      <td>5</td>\n",
       "    </tr>\n",
       "    <tr>\n",
       "      <th>33</th>\n",
       "      <td>2013</td>\n",
       "      <td>2010-2019</td>\n",
       "      <td>5</td>\n",
       "    </tr>\n",
       "    <tr>\n",
       "      <th>34</th>\n",
       "      <td>2014</td>\n",
       "      <td>2010-2019</td>\n",
       "      <td>5</td>\n",
       "    </tr>\n",
       "    <tr>\n",
       "      <th>35</th>\n",
       "      <td>2015</td>\n",
       "      <td>2010-2019</td>\n",
       "      <td>5</td>\n",
       "    </tr>\n",
       "    <tr>\n",
       "      <th>36</th>\n",
       "      <td>2016</td>\n",
       "      <td>2010-2019</td>\n",
       "      <td>5</td>\n",
       "    </tr>\n",
       "    <tr>\n",
       "      <th>37</th>\n",
       "      <td>2017</td>\n",
       "      <td>2010-2019</td>\n",
       "      <td>5</td>\n",
       "    </tr>\n",
       "    <tr>\n",
       "      <th>38</th>\n",
       "      <td>2020</td>\n",
       "      <td>2020-2029</td>\n",
       "      <td>6</td>\n",
       "    </tr>\n",
       "    <tr>\n",
       "      <th>39</th>\n",
       "      <td>9999</td>\n",
       "      <td>Unknown</td>\n",
       "      <td>1</td>\n",
       "    </tr>\n",
       "  </tbody>\n",
       "</table>\n",
       "</div>"
      ],
      "text/plain": [
       "    year category_year  id_category\n",
       "0   1980     1980-1989            2\n",
       "1   1981     1980-1989            2\n",
       "2   1982     1980-1989            2\n",
       "3   1983     1980-1989            2\n",
       "4   1984     1980-1989            2\n",
       "5   1985     1980-1989            2\n",
       "6   1986     1980-1989            2\n",
       "7   1987     1980-1989            2\n",
       "8   1988     1980-1989            2\n",
       "9   1989     1980-1989            2\n",
       "10  1990     1990-1999            3\n",
       "11  1991     1990-1999            3\n",
       "12  1992     1990-1999            3\n",
       "13  1993     1990-1999            3\n",
       "14  1994     1990-1999            3\n",
       "15  1995     1990-1999            3\n",
       "16  1996     1990-1999            3\n",
       "17  1997     1990-1999            3\n",
       "18  1998     1990-1999            3\n",
       "19  1999     1990-1999            3\n",
       "20  2000     2000-2009            4\n",
       "21  2001     2000-2009            4\n",
       "22  2002     2000-2009            4\n",
       "23  2003     2000-2009            4\n",
       "24  2004     2000-2009            4\n",
       "25  2005     2000-2009            4\n",
       "26  2006     2000-2009            4\n",
       "27  2007     2000-2009            4\n",
       "28  2008     2000-2009            4\n",
       "29  2009     2000-2009            4\n",
       "30  2010     2010-2019            5\n",
       "31  2011     2010-2019            5\n",
       "32  2012     2010-2019            5\n",
       "33  2013     2010-2019            5\n",
       "34  2014     2010-2019            5\n",
       "35  2015     2010-2019            5\n",
       "36  2016     2010-2019            5\n",
       "37  2017     2010-2019            5\n",
       "38  2020     2020-2029            6\n",
       "39  9999       Unknown            1"
      ]
     },
     "execution_count": 49,
     "metadata": {},
     "output_type": "execute_result"
    }
   ],
   "source": [
    "import io\n",
    "\n",
    "for remoteFile in remoteFileList:\n",
    "    try:\n",
    "        file = s3.Bucket(S3_BUCKET_NAME).Object('dim_year.xlsx').get()\n",
    "        data = file['Body'].read()\n",
    "        df_year = pd.read_excel(io.BytesIO(data), engine='openpyxl')\n",
    "    except Exception as ex:\n",
    "        print(\"No es un archivo.\")\n",
    "        print(ex)\n",
    "\n",
    "df_year"
   ]
  },
  {
   "attachments": {},
   "cell_type": "markdown",
   "metadata": {},
   "source": [
    "###### Se insertan datos en Dimension Year"
   ]
  },
  {
   "cell_type": "code",
   "execution_count": 50,
   "metadata": {},
   "outputs": [
    {
     "name": "stdout",
     "output_type": "stream",
     "text": [
      "Se han insertado 40 nuevos registros.\n"
     ]
    }
   ],
   "source": [
    "insertDataToSQL(df_year,'dim_year')"
   ]
  },
  {
   "cell_type": "code",
   "execution_count": 51,
   "metadata": {},
   "outputs": [
    {
     "data": {
      "text/plain": [
       "['dim_year.xlsx', 'fact_sales.xlsx']"
      ]
     },
     "execution_count": 51,
     "metadata": {},
     "output_type": "execute_result"
    }
   ],
   "source": [
    "#extraemos todo lo que está en el bucket para fact table\n",
    "S3_BUCKET_NAME = 'bucket-proy-final' ##Ingresar el nombre del bucket\n",
    "\n",
    "remoteFileList = []\n",
    "for objt in s3.Bucket(S3_BUCKET_NAME).objects.all():\n",
    "    remoteFileList.append(objt.key)\n",
    "\n",
    "remoteFileList\n",
    "\n"
   ]
  },
  {
   "attachments": {},
   "cell_type": "markdown",
   "metadata": {},
   "source": [
    "###### Leer data de S3 para fact sales"
   ]
  },
  {
   "cell_type": "code",
   "execution_count": 52,
   "metadata": {},
   "outputs": [
    {
     "data": {
      "text/html": [
       "<div>\n",
       "<style scoped>\n",
       "    .dataframe tbody tr th:only-of-type {\n",
       "        vertical-align: middle;\n",
       "    }\n",
       "\n",
       "    .dataframe tbody tr th {\n",
       "        vertical-align: top;\n",
       "    }\n",
       "\n",
       "    .dataframe thead th {\n",
       "        text-align: right;\n",
       "    }\n",
       "</style>\n",
       "<table border=\"1\" class=\"dataframe\">\n",
       "  <thead>\n",
       "    <tr style=\"text-align: right;\">\n",
       "      <th></th>\n",
       "      <th>id_sales</th>\n",
       "      <th>id_product</th>\n",
       "      <th>id_plataforma</th>\n",
       "      <th>year</th>\n",
       "      <th>id_genero</th>\n",
       "      <th>id_publisher</th>\n",
       "      <th>na_sales</th>\n",
       "      <th>eu_sales</th>\n",
       "      <th>jp_sales</th>\n",
       "      <th>other_sales</th>\n",
       "      <th>global_sales</th>\n",
       "      <th>rank</th>\n",
       "    </tr>\n",
       "  </thead>\n",
       "  <tbody>\n",
       "    <tr>\n",
       "      <th>0</th>\n",
       "      <td>1</td>\n",
       "      <td>11008</td>\n",
       "      <td>1</td>\n",
       "      <td>2006</td>\n",
       "      <td>1</td>\n",
       "      <td>1</td>\n",
       "      <td>41.49</td>\n",
       "      <td>29.02</td>\n",
       "      <td>3.77</td>\n",
       "      <td>8.46</td>\n",
       "      <td>82.74</td>\n",
       "      <td>1</td>\n",
       "    </tr>\n",
       "    <tr>\n",
       "      <th>1</th>\n",
       "      <td>4</td>\n",
       "      <td>11010</td>\n",
       "      <td>1</td>\n",
       "      <td>2009</td>\n",
       "      <td>1</td>\n",
       "      <td>1</td>\n",
       "      <td>15.75</td>\n",
       "      <td>11.01</td>\n",
       "      <td>3.28</td>\n",
       "      <td>2.96</td>\n",
       "      <td>33.00</td>\n",
       "      <td>4</td>\n",
       "    </tr>\n",
       "    <tr>\n",
       "      <th>2</th>\n",
       "      <td>14</td>\n",
       "      <td>11000</td>\n",
       "      <td>1</td>\n",
       "      <td>2007</td>\n",
       "      <td>1</td>\n",
       "      <td>1</td>\n",
       "      <td>8.94</td>\n",
       "      <td>8.03</td>\n",
       "      <td>3.60</td>\n",
       "      <td>2.15</td>\n",
       "      <td>22.72</td>\n",
       "      <td>14</td>\n",
       "    </tr>\n",
       "    <tr>\n",
       "      <th>3</th>\n",
       "      <td>15</td>\n",
       "      <td>11001</td>\n",
       "      <td>1</td>\n",
       "      <td>2009</td>\n",
       "      <td>1</td>\n",
       "      <td>1</td>\n",
       "      <td>9.09</td>\n",
       "      <td>8.59</td>\n",
       "      <td>2.53</td>\n",
       "      <td>1.79</td>\n",
       "      <td>22.00</td>\n",
       "      <td>15</td>\n",
       "    </tr>\n",
       "    <tr>\n",
       "      <th>4</th>\n",
       "      <td>582</td>\n",
       "      <td>5594</td>\n",
       "      <td>1</td>\n",
       "      <td>2007</td>\n",
       "      <td>1</td>\n",
       "      <td>1</td>\n",
       "      <td>1.07</td>\n",
       "      <td>1.06</td>\n",
       "      <td>0.24</td>\n",
       "      <td>0.25</td>\n",
       "      <td>2.62</td>\n",
       "      <td>582</td>\n",
       "    </tr>\n",
       "    <tr>\n",
       "      <th>...</th>\n",
       "      <td>...</td>\n",
       "      <td>...</td>\n",
       "      <td>...</td>\n",
       "      <td>...</td>\n",
       "      <td>...</td>\n",
       "      <td>...</td>\n",
       "      <td>...</td>\n",
       "      <td>...</td>\n",
       "      <td>...</td>\n",
       "      <td>...</td>\n",
       "      <td>...</td>\n",
       "      <td>...</td>\n",
       "    </tr>\n",
       "    <tr>\n",
       "      <th>16593</th>\n",
       "      <td>12904</td>\n",
       "      <td>4633</td>\n",
       "      <td>8</td>\n",
       "      <td>1995</td>\n",
       "      <td>11</td>\n",
       "      <td>415</td>\n",
       "      <td>0.00</td>\n",
       "      <td>0.00</td>\n",
       "      <td>0.05</td>\n",
       "      <td>0.00</td>\n",
       "      <td>0.05</td>\n",
       "      <td>12905</td>\n",
       "    </tr>\n",
       "    <tr>\n",
       "      <th>16594</th>\n",
       "      <td>15900</td>\n",
       "      <td>10497</td>\n",
       "      <td>22</td>\n",
       "      <td>2007</td>\n",
       "      <td>7</td>\n",
       "      <td>552</td>\n",
       "      <td>0.00</td>\n",
       "      <td>0.00</td>\n",
       "      <td>0.02</td>\n",
       "      <td>0.00</td>\n",
       "      <td>0.02</td>\n",
       "      <td>15902</td>\n",
       "    </tr>\n",
       "    <tr>\n",
       "      <th>16595</th>\n",
       "      <td>12270</td>\n",
       "      <td>4675</td>\n",
       "      <td>22</td>\n",
       "      <td>1998</td>\n",
       "      <td>11</td>\n",
       "      <td>409</td>\n",
       "      <td>0.00</td>\n",
       "      <td>0.00</td>\n",
       "      <td>0.06</td>\n",
       "      <td>0.00</td>\n",
       "      <td>0.06</td>\n",
       "      <td>12271</td>\n",
       "    </tr>\n",
       "    <tr>\n",
       "      <th>16596</th>\n",
       "      <td>15554</td>\n",
       "      <td>9302</td>\n",
       "      <td>27</td>\n",
       "      <td>1995</td>\n",
       "      <td>1</td>\n",
       "      <td>540</td>\n",
       "      <td>0.00</td>\n",
       "      <td>0.00</td>\n",
       "      <td>0.02</td>\n",
       "      <td>0.00</td>\n",
       "      <td>0.02</td>\n",
       "      <td>15556</td>\n",
       "    </tr>\n",
       "    <tr>\n",
       "      <th>16597</th>\n",
       "      <td>15480</td>\n",
       "      <td>8881</td>\n",
       "      <td>29</td>\n",
       "      <td>1995</td>\n",
       "      <td>8</td>\n",
       "      <td>537</td>\n",
       "      <td>0.00</td>\n",
       "      <td>0.00</td>\n",
       "      <td>0.02</td>\n",
       "      <td>0.00</td>\n",
       "      <td>0.02</td>\n",
       "      <td>15482</td>\n",
       "    </tr>\n",
       "  </tbody>\n",
       "</table>\n",
       "<p>16598 rows × 12 columns</p>\n",
       "</div>"
      ],
      "text/plain": [
       "       id_sales  id_product  id_plataforma  year  id_genero  id_publisher  \\\n",
       "0             1       11008              1  2006          1             1   \n",
       "1             4       11010              1  2009          1             1   \n",
       "2            14       11000              1  2007          1             1   \n",
       "3            15       11001              1  2009          1             1   \n",
       "4           582        5594              1  2007          1             1   \n",
       "...         ...         ...            ...   ...        ...           ...   \n",
       "16593     12904        4633              8  1995         11           415   \n",
       "16594     15900       10497             22  2007          7           552   \n",
       "16595     12270        4675             22  1998         11           409   \n",
       "16596     15554        9302             27  1995          1           540   \n",
       "16597     15480        8881             29  1995          8           537   \n",
       "\n",
       "       na_sales  eu_sales  jp_sales  other_sales  global_sales   rank  \n",
       "0         41.49     29.02      3.77         8.46         82.74      1  \n",
       "1         15.75     11.01      3.28         2.96         33.00      4  \n",
       "2          8.94      8.03      3.60         2.15         22.72     14  \n",
       "3          9.09      8.59      2.53         1.79         22.00     15  \n",
       "4          1.07      1.06      0.24         0.25          2.62    582  \n",
       "...         ...       ...       ...          ...           ...    ...  \n",
       "16593      0.00      0.00      0.05         0.00          0.05  12905  \n",
       "16594      0.00      0.00      0.02         0.00          0.02  15902  \n",
       "16595      0.00      0.00      0.06         0.00          0.06  12271  \n",
       "16596      0.00      0.00      0.02         0.00          0.02  15556  \n",
       "16597      0.00      0.00      0.02         0.00          0.02  15482  \n",
       "\n",
       "[16598 rows x 12 columns]"
      ]
     },
     "execution_count": 52,
     "metadata": {},
     "output_type": "execute_result"
    }
   ],
   "source": [
    "import io\n",
    "\n",
    "for remoteFile in remoteFileList:\n",
    "    try:\n",
    "        file = s3.Bucket(S3_BUCKET_NAME).Object('fact_sales.xlsx').get()\n",
    "        data = file['Body'].read()\n",
    "        df_fact = pd.read_excel(io.BytesIO(data), engine='openpyxl')\n",
    "    except Exception as ex:\n",
    "        print(\"No es un archivo.\")\n",
    "        print(ex)\n",
    "\n",
    "df_fact"
   ]
  },
  {
   "cell_type": "code",
   "execution_count": 53,
   "metadata": {},
   "outputs": [
    {
     "name": "stdout",
     "output_type": "stream",
     "text": [
      "Se han insertado 598 nuevos registros.\n"
     ]
    }
   ],
   "source": [
    "insertDataToSQL(df_fact,'fact_sales')"
   ]
  },
  {
   "attachments": {},
   "cell_type": "markdown",
   "metadata": {},
   "source": [
    "#### Analisis de datos y metricas"
   ]
  },
  {
   "attachments": {},
   "cell_type": "markdown",
   "metadata": {},
   "source": [
    "###### Se carga el driver de postgresql"
   ]
  },
  {
   "cell_type": "code",
   "execution_count": 54,
   "metadata": {},
   "outputs": [],
   "source": [
    "postgres_driver = f\"\"\"postgresql://{config.get('RDS', 'DB_USER')}:{config.get('RDS', 'DB_PASSWORD')}@{RDS_HOST}:{config.get('RDS', 'DB_PORT')}/{config.get('RDS', 'DB_NAME')}\"\"\""
   ]
  },
  {
   "attachments": {},
   "cell_type": "markdown",
   "metadata": {},
   "source": [
    "##### Se genera la tabla de ventas por género"
   ]
  },
  {
   "cell_type": "code",
   "execution_count": 55,
   "metadata": {},
   "outputs": [
    {
     "data": {
      "text/html": [
       "<div>\n",
       "<style scoped>\n",
       "    .dataframe tbody tr th:only-of-type {\n",
       "        vertical-align: middle;\n",
       "    }\n",
       "\n",
       "    .dataframe tbody tr th {\n",
       "        vertical-align: top;\n",
       "    }\n",
       "\n",
       "    .dataframe thead th {\n",
       "        text-align: right;\n",
       "    }\n",
       "</style>\n",
       "<table border=\"1\" class=\"dataframe\">\n",
       "  <thead>\n",
       "    <tr style=\"text-align: right;\">\n",
       "      <th></th>\n",
       "      <th>genre</th>\n",
       "      <th>ventas_total</th>\n",
       "    </tr>\n",
       "  </thead>\n",
       "  <tbody>\n",
       "    <tr>\n",
       "      <th>0</th>\n",
       "      <td>Action</td>\n",
       "      <td>1751.18</td>\n",
       "    </tr>\n",
       "    <tr>\n",
       "      <th>1</th>\n",
       "      <td>Sports</td>\n",
       "      <td>1330.93</td>\n",
       "    </tr>\n",
       "    <tr>\n",
       "      <th>2</th>\n",
       "      <td>Shooter</td>\n",
       "      <td>1037.37</td>\n",
       "    </tr>\n",
       "    <tr>\n",
       "      <th>3</th>\n",
       "      <td>Role-Playing</td>\n",
       "      <td>927.37</td>\n",
       "    </tr>\n",
       "    <tr>\n",
       "      <th>4</th>\n",
       "      <td>Platform</td>\n",
       "      <td>831.37</td>\n",
       "    </tr>\n",
       "    <tr>\n",
       "      <th>5</th>\n",
       "      <td>Misc</td>\n",
       "      <td>809.96</td>\n",
       "    </tr>\n",
       "    <tr>\n",
       "      <th>6</th>\n",
       "      <td>Racing</td>\n",
       "      <td>732.04</td>\n",
       "    </tr>\n",
       "    <tr>\n",
       "      <th>7</th>\n",
       "      <td>Fighting</td>\n",
       "      <td>448.91</td>\n",
       "    </tr>\n",
       "    <tr>\n",
       "      <th>8</th>\n",
       "      <td>Simulation</td>\n",
       "      <td>392.20</td>\n",
       "    </tr>\n",
       "    <tr>\n",
       "      <th>9</th>\n",
       "      <td>Puzzle</td>\n",
       "      <td>244.95</td>\n",
       "    </tr>\n",
       "    <tr>\n",
       "      <th>10</th>\n",
       "      <td>Adventure</td>\n",
       "      <td>239.04</td>\n",
       "    </tr>\n",
       "    <tr>\n",
       "      <th>11</th>\n",
       "      <td>Strategy</td>\n",
       "      <td>175.12</td>\n",
       "    </tr>\n",
       "  </tbody>\n",
       "</table>\n",
       "</div>"
      ],
      "text/plain": [
       "           genre  ventas_total\n",
       "0         Action       1751.18\n",
       "1         Sports       1330.93\n",
       "2        Shooter       1037.37\n",
       "3   Role-Playing        927.37\n",
       "4       Platform        831.37\n",
       "5           Misc        809.96\n",
       "6         Racing        732.04\n",
       "7       Fighting        448.91\n",
       "8     Simulation        392.20\n",
       "9         Puzzle        244.95\n",
       "10     Adventure        239.04\n",
       "11      Strategy        175.12"
      ]
     },
     "execution_count": 55,
     "metadata": {},
     "output_type": "execute_result"
    }
   ],
   "source": [
    "sql_query = '''SELECT g.genre,sum(f.global_sales) as Ventas_Total\n",
    "                FROM fact_sales AS f\n",
    "                LEFT JOIN dim_genero AS g\n",
    "                ON f.id_genero=g.id_genero\n",
    "                GROUP BY g.genre\n",
    "                ORDER BY Ventas_Total DESC'''\n",
    "sales_genero = pd.read_sql(sql_query, postgres_driver)\n",
    "sales_genero"
   ]
  },
  {
   "attachments": {},
   "cell_type": "markdown",
   "metadata": {},
   "source": [
    "###### Se grafican las ventas "
   ]
  },
  {
   "cell_type": "code",
   "execution_count": 56,
   "metadata": {},
   "outputs": [
    {
     "data": {
      "image/png": "[encoded data removed]",
      "text/plain": [
       "<Figure size 1000x300 with 1 Axes>"
      ]
     },
     "metadata": {},
     "output_type": "display_data"
    }
   ],
   "source": [
    "fig=plt.figure(figsize=(10,3))\n",
    "ax=fig.add_axes([0,0,1,1])\n",
    "ventas = sales_genero['ventas_total']\n",
    "generos = sales_genero['genre']\n",
    "ax.set_title('Ventas por género de videojuego')\n",
    "ax.bar(generos, ventas)\n",
    "ax.tick_params(axis='x', labelsize=8)\n",
    "plt.show()"
   ]
  },
  {
   "attachments": {},
   "cell_type": "markdown",
   "metadata": {},
   "source": [
    "#### Promedio de ventas, ventas totales y participación de mercado por plataforma de videojuego "
   ]
  },
  {
   "cell_type": "code",
   "execution_count": 57,
   "metadata": {},
   "outputs": [
    {
     "data": {
      "text/html": [
       "<div>\n",
       "<style scoped>\n",
       "    .dataframe tbody tr th:only-of-type {\n",
       "        vertical-align: middle;\n",
       "    }\n",
       "\n",
       "    .dataframe tbody tr th {\n",
       "        vertical-align: top;\n",
       "    }\n",
       "\n",
       "    .dataframe thead th {\n",
       "        text-align: right;\n",
       "    }\n",
       "</style>\n",
       "<table border=\"1\" class=\"dataframe\">\n",
       "  <thead>\n",
       "    <tr style=\"text-align: right;\">\n",
       "      <th></th>\n",
       "      <th>platform</th>\n",
       "      <th>mean_sales</th>\n",
       "      <th>ventas_totales</th>\n",
       "      <th>participacion</th>\n",
       "    </tr>\n",
       "  </thead>\n",
       "  <tbody>\n",
       "    <tr>\n",
       "      <th>0</th>\n",
       "      <td>PS2</td>\n",
       "      <td>0.5810</td>\n",
       "      <td>1255.64</td>\n",
       "      <td>0.141</td>\n",
       "    </tr>\n",
       "    <tr>\n",
       "      <th>1</th>\n",
       "      <td>X360</td>\n",
       "      <td>0.7747</td>\n",
       "      <td>979.96</td>\n",
       "      <td>0.110</td>\n",
       "    </tr>\n",
       "    <tr>\n",
       "      <th>2</th>\n",
       "      <td>PS3</td>\n",
       "      <td>0.7207</td>\n",
       "      <td>957.84</td>\n",
       "      <td>0.107</td>\n",
       "    </tr>\n",
       "    <tr>\n",
       "      <th>3</th>\n",
       "      <td>Wii</td>\n",
       "      <td>0.6994</td>\n",
       "      <td>926.71</td>\n",
       "      <td>0.104</td>\n",
       "    </tr>\n",
       "    <tr>\n",
       "      <th>4</th>\n",
       "      <td>DS</td>\n",
       "      <td>0.3803</td>\n",
       "      <td>822.49</td>\n",
       "      <td>0.092</td>\n",
       "    </tr>\n",
       "    <tr>\n",
       "      <th>5</th>\n",
       "      <td>PS</td>\n",
       "      <td>0.6109</td>\n",
       "      <td>730.66</td>\n",
       "      <td>0.082</td>\n",
       "    </tr>\n",
       "    <tr>\n",
       "      <th>6</th>\n",
       "      <td>GBA</td>\n",
       "      <td>0.3875</td>\n",
       "      <td>318.50</td>\n",
       "      <td>0.036</td>\n",
       "    </tr>\n",
       "    <tr>\n",
       "      <th>7</th>\n",
       "      <td>PSP</td>\n",
       "      <td>0.2443</td>\n",
       "      <td>296.28</td>\n",
       "      <td>0.033</td>\n",
       "    </tr>\n",
       "    <tr>\n",
       "      <th>8</th>\n",
       "      <td>PS4</td>\n",
       "      <td>0.8277</td>\n",
       "      <td>278.10</td>\n",
       "      <td>0.031</td>\n",
       "    </tr>\n",
       "    <tr>\n",
       "      <th>9</th>\n",
       "      <td>PC</td>\n",
       "      <td>0.2696</td>\n",
       "      <td>258.82</td>\n",
       "      <td>0.029</td>\n",
       "    </tr>\n",
       "    <tr>\n",
       "      <th>10</th>\n",
       "      <td>XB</td>\n",
       "      <td>0.3134</td>\n",
       "      <td>258.26</td>\n",
       "      <td>0.029</td>\n",
       "    </tr>\n",
       "    <tr>\n",
       "      <th>11</th>\n",
       "      <td>GB</td>\n",
       "      <td>2.6066</td>\n",
       "      <td>255.45</td>\n",
       "      <td>0.029</td>\n",
       "    </tr>\n",
       "    <tr>\n",
       "      <th>12</th>\n",
       "      <td>NES</td>\n",
       "      <td>2.5619</td>\n",
       "      <td>251.07</td>\n",
       "      <td>0.028</td>\n",
       "    </tr>\n",
       "    <tr>\n",
       "      <th>13</th>\n",
       "      <td>3DS</td>\n",
       "      <td>0.4862</td>\n",
       "      <td>247.46</td>\n",
       "      <td>0.028</td>\n",
       "    </tr>\n",
       "    <tr>\n",
       "      <th>14</th>\n",
       "      <td>N64</td>\n",
       "      <td>0.6861</td>\n",
       "      <td>218.88</td>\n",
       "      <td>0.025</td>\n",
       "    </tr>\n",
       "    <tr>\n",
       "      <th>15</th>\n",
       "      <td>SNES</td>\n",
       "      <td>0.8370</td>\n",
       "      <td>200.05</td>\n",
       "      <td>0.022</td>\n",
       "    </tr>\n",
       "    <tr>\n",
       "      <th>16</th>\n",
       "      <td>GC</td>\n",
       "      <td>0.3586</td>\n",
       "      <td>199.36</td>\n",
       "      <td>0.022</td>\n",
       "    </tr>\n",
       "    <tr>\n",
       "      <th>17</th>\n",
       "      <td>XOne</td>\n",
       "      <td>0.6623</td>\n",
       "      <td>141.06</td>\n",
       "      <td>0.016</td>\n",
       "    </tr>\n",
       "    <tr>\n",
       "      <th>18</th>\n",
       "      <td>2600</td>\n",
       "      <td>0.7299</td>\n",
       "      <td>97.08</td>\n",
       "      <td>0.011</td>\n",
       "    </tr>\n",
       "    <tr>\n",
       "      <th>19</th>\n",
       "      <td>WiiU</td>\n",
       "      <td>0.5724</td>\n",
       "      <td>81.86</td>\n",
       "      <td>0.009</td>\n",
       "    </tr>\n",
       "    <tr>\n",
       "      <th>20</th>\n",
       "      <td>PSV</td>\n",
       "      <td>0.1500</td>\n",
       "      <td>61.93</td>\n",
       "      <td>0.007</td>\n",
       "    </tr>\n",
       "    <tr>\n",
       "      <th>21</th>\n",
       "      <td>SAT</td>\n",
       "      <td>0.1942</td>\n",
       "      <td>33.59</td>\n",
       "      <td>0.004</td>\n",
       "    </tr>\n",
       "    <tr>\n",
       "      <th>22</th>\n",
       "      <td>GEN</td>\n",
       "      <td>1.0504</td>\n",
       "      <td>28.36</td>\n",
       "      <td>0.003</td>\n",
       "    </tr>\n",
       "    <tr>\n",
       "      <th>23</th>\n",
       "      <td>DC</td>\n",
       "      <td>0.3071</td>\n",
       "      <td>15.97</td>\n",
       "      <td>0.002</td>\n",
       "    </tr>\n",
       "    <tr>\n",
       "      <th>24</th>\n",
       "      <td>SCD</td>\n",
       "      <td>0.3117</td>\n",
       "      <td>1.87</td>\n",
       "      <td>0.000</td>\n",
       "    </tr>\n",
       "    <tr>\n",
       "      <th>25</th>\n",
       "      <td>NG</td>\n",
       "      <td>0.1200</td>\n",
       "      <td>1.44</td>\n",
       "      <td>0.000</td>\n",
       "    </tr>\n",
       "    <tr>\n",
       "      <th>26</th>\n",
       "      <td>WS</td>\n",
       "      <td>0.2367</td>\n",
       "      <td>1.42</td>\n",
       "      <td>0.000</td>\n",
       "    </tr>\n",
       "    <tr>\n",
       "      <th>27</th>\n",
       "      <td>TG16</td>\n",
       "      <td>0.0800</td>\n",
       "      <td>0.16</td>\n",
       "      <td>0.000</td>\n",
       "    </tr>\n",
       "    <tr>\n",
       "      <th>28</th>\n",
       "      <td>3DO</td>\n",
       "      <td>0.0333</td>\n",
       "      <td>0.10</td>\n",
       "      <td>0.000</td>\n",
       "    </tr>\n",
       "    <tr>\n",
       "      <th>29</th>\n",
       "      <td>GG</td>\n",
       "      <td>0.0400</td>\n",
       "      <td>0.04</td>\n",
       "      <td>0.000</td>\n",
       "    </tr>\n",
       "    <tr>\n",
       "      <th>30</th>\n",
       "      <td>PCFX</td>\n",
       "      <td>0.0300</td>\n",
       "      <td>0.03</td>\n",
       "      <td>0.000</td>\n",
       "    </tr>\n",
       "  </tbody>\n",
       "</table>\n",
       "</div>"
      ],
      "text/plain": [
       "   platform  mean_sales  ventas_totales  participacion\n",
       "0       PS2      0.5810         1255.64          0.141\n",
       "1      X360      0.7747          979.96          0.110\n",
       "2       PS3      0.7207          957.84          0.107\n",
       "3       Wii      0.6994          926.71          0.104\n",
       "4        DS      0.3803          822.49          0.092\n",
       "5        PS      0.6109          730.66          0.082\n",
       "6       GBA      0.3875          318.50          0.036\n",
       "7       PSP      0.2443          296.28          0.033\n",
       "8       PS4      0.8277          278.10          0.031\n",
       "9        PC      0.2696          258.82          0.029\n",
       "10       XB      0.3134          258.26          0.029\n",
       "11       GB      2.6066          255.45          0.029\n",
       "12      NES      2.5619          251.07          0.028\n",
       "13      3DS      0.4862          247.46          0.028\n",
       "14      N64      0.6861          218.88          0.025\n",
       "15     SNES      0.8370          200.05          0.022\n",
       "16       GC      0.3586          199.36          0.022\n",
       "17     XOne      0.6623          141.06          0.016\n",
       "18     2600      0.7299           97.08          0.011\n",
       "19     WiiU      0.5724           81.86          0.009\n",
       "20      PSV      0.1500           61.93          0.007\n",
       "21      SAT      0.1942           33.59          0.004\n",
       "22      GEN      1.0504           28.36          0.003\n",
       "23       DC      0.3071           15.97          0.002\n",
       "24      SCD      0.3117            1.87          0.000\n",
       "25       NG      0.1200            1.44          0.000\n",
       "26       WS      0.2367            1.42          0.000\n",
       "27     TG16      0.0800            0.16          0.000\n",
       "28      3DO      0.0333            0.10          0.000\n",
       "29       GG      0.0400            0.04          0.000\n",
       "30     PCFX      0.0300            0.03          0.000"
      ]
     },
     "execution_count": 57,
     "metadata": {},
     "output_type": "execute_result"
    }
   ],
   "source": [
    "sql_query2 = '''SELECT p.platform,round(AVG(f.global_sales)::numeric,4) as Mean_Sales, round(sum(f.global_sales)::numeric, 2) as Ventas_totales, round((sum(f.global_sales) / (SELECT sum(global_sales) from fact_sales))::NUMERIC,3) as participacion\n",
    "                FROM fact_sales AS f\n",
    "                LEFT JOIN dim_plataforma AS p\n",
    "                ON f.id_plataforma=p.id_plataforma\n",
    "                GROUP BY p.platform\n",
    "                ORDER BY Ventas_totales DESC'''\n",
    "mean_platform = pd.read_sql(sql_query2, postgres_driver)\n",
    "mean_platform"
   ]
  },
  {
   "attachments": {},
   "cell_type": "markdown",
   "metadata": {},
   "source": [
    "Se obtiene el top 10 de las plataformas según sus ventas"
   ]
  },
  {
   "cell_type": "code",
   "execution_count": 58,
   "metadata": {},
   "outputs": [
    {
     "name": "stdout",
     "output_type": "stream",
     "text": [
      "  platform  mean_sales  ventas_totales  participacion\n",
      "0      PS2      0.5810         1255.64          0.141\n",
      "1     X360      0.7747          979.96          0.110\n",
      "2      PS3      0.7207          957.84          0.107\n",
      "3      Wii      0.6994          926.71          0.104\n",
      "4       DS      0.3803          822.49          0.092\n",
      "5       PS      0.6109          730.66          0.082\n",
      "6      GBA      0.3875          318.50          0.036\n",
      "7      PSP      0.2443          296.28          0.033\n",
      "8      PS4      0.8277          278.10          0.031\n",
      "9       PC      0.2696          258.82          0.029\n"
     ]
    }
   ],
   "source": [
    "top10_plat = mean_platform.head(10)\n",
    "print(top10_plat)"
   ]
  },
  {
   "attachments": {},
   "cell_type": "markdown",
   "metadata": {},
   "source": [
    "Se grafican los datos para determinar su participación dentro del top 10"
   ]
  },
  {
   "cell_type": "code",
   "execution_count": 59,
   "metadata": {},
   "outputs": [
    {
     "data": {
      "image/png": "[encoded data removed]",
      "text/plain": [
       "<Figure size 640x480 with 1 Axes>"
      ]
     },
     "metadata": {},
     "output_type": "display_data"
    }
   ],
   "source": [
    "fig=plt.figure()\n",
    "ax=fig.add_axes([0,0,1,1])\n",
    "ax.axis('equal')\n",
    "particip = top10_plat['ventas_totales']\n",
    "consolas = top10_plat['platform']\n",
    "ax.set_title('Participación de consolas top 10')\n",
    "ax.pie(particip, labels=consolas, autopct='%1.2f%%')\n",
    "plt.show()"
   ]
  },
  {
   "attachments": {},
   "cell_type": "markdown",
   "metadata": {},
   "source": [
    "#### Ventas Globales por rango de años de videojuego"
   ]
  },
  {
   "cell_type": "code",
   "execution_count": 60,
   "metadata": {},
   "outputs": [
    {
     "data": {
      "text/html": [
       "<div>\n",
       "<style scoped>\n",
       "    .dataframe tbody tr th:only-of-type {\n",
       "        vertical-align: middle;\n",
       "    }\n",
       "\n",
       "    .dataframe tbody tr th {\n",
       "        vertical-align: top;\n",
       "    }\n",
       "\n",
       "    .dataframe thead th {\n",
       "        text-align: right;\n",
       "    }\n",
       "</style>\n",
       "<table border=\"1\" class=\"dataframe\">\n",
       "  <thead>\n",
       "    <tr style=\"text-align: right;\">\n",
       "      <th></th>\n",
       "      <th>category_year</th>\n",
       "      <th>ventas_total</th>\n",
       "    </tr>\n",
       "  </thead>\n",
       "  <tbody>\n",
       "    <tr>\n",
       "      <th>0</th>\n",
       "      <td>2000-2009</td>\n",
       "      <td>4644.02</td>\n",
       "    </tr>\n",
       "    <tr>\n",
       "      <th>1</th>\n",
       "      <td>2010-2019</td>\n",
       "      <td>2520.56</td>\n",
       "    </tr>\n",
       "    <tr>\n",
       "      <th>2</th>\n",
       "      <td>1990-1999</td>\n",
       "      <td>1278.91</td>\n",
       "    </tr>\n",
       "    <tr>\n",
       "      <th>3</th>\n",
       "      <td>1980-1989</td>\n",
       "      <td>376.58</td>\n",
       "    </tr>\n",
       "    <tr>\n",
       "      <th>4</th>\n",
       "      <td>Unknown</td>\n",
       "      <td>100.08</td>\n",
       "    </tr>\n",
       "    <tr>\n",
       "      <th>5</th>\n",
       "      <td>2020-2029</td>\n",
       "      <td>0.29</td>\n",
       "    </tr>\n",
       "  </tbody>\n",
       "</table>\n",
       "</div>"
      ],
      "text/plain": [
       "  category_year  ventas_total\n",
       "0     2000-2009       4644.02\n",
       "1     2010-2019       2520.56\n",
       "2     1990-1999       1278.91\n",
       "3     1980-1989        376.58\n",
       "4       Unknown        100.08\n",
       "5     2020-2029          0.29"
      ]
     },
     "execution_count": 60,
     "metadata": {},
     "output_type": "execute_result"
    }
   ],
   "source": [
    "sql_query = '''SELECT y.category_year,sum(f.global_sales) as Ventas_Total\n",
    "                FROM fact_sales AS f\n",
    "                LEFT JOIN dim_year AS y\n",
    "                ON f.year=y.year\n",
    "                GROUP BY y.category_year\n",
    "                ORDER BY Ventas_Total DESC'''\n",
    "sales_year = pd.read_sql(sql_query, postgres_driver)\n",
    "sales_year"
   ]
  },
  {
   "attachments": {},
   "cell_type": "markdown",
   "metadata": {},
   "source": [
    "#### Ventas globales y región por Publisher de video juego"
   ]
  },
  {
   "cell_type": "code",
   "execution_count": 61,
   "metadata": {},
   "outputs": [
    {
     "data": {
      "text/html": [
       "<div>\n",
       "<style scoped>\n",
       "    .dataframe tbody tr th:only-of-type {\n",
       "        vertical-align: middle;\n",
       "    }\n",
       "\n",
       "    .dataframe tbody tr th {\n",
       "        vertical-align: top;\n",
       "    }\n",
       "\n",
       "    .dataframe thead th {\n",
       "        text-align: right;\n",
       "    }\n",
       "</style>\n",
       "<table border=\"1\" class=\"dataframe\">\n",
       "  <thead>\n",
       "    <tr style=\"text-align: right;\">\n",
       "      <th></th>\n",
       "      <th>publisher</th>\n",
       "      <th>ventas_na</th>\n",
       "      <th>ventas_eu</th>\n",
       "      <th>ventas_jp</th>\n",
       "      <th>ventas_total</th>\n",
       "    </tr>\n",
       "  </thead>\n",
       "  <tbody>\n",
       "    <tr>\n",
       "      <th>0</th>\n",
       "      <td>Nintendo</td>\n",
       "      <td>816.87</td>\n",
       "      <td>418.74</td>\n",
       "      <td>455.42</td>\n",
       "      <td>1786.56</td>\n",
       "    </tr>\n",
       "    <tr>\n",
       "      <th>1</th>\n",
       "      <td>Electronic Arts</td>\n",
       "      <td>595.07</td>\n",
       "      <td>371.27</td>\n",
       "      <td>14.04</td>\n",
       "      <td>1110.32</td>\n",
       "    </tr>\n",
       "    <tr>\n",
       "      <th>2</th>\n",
       "      <td>Activision</td>\n",
       "      <td>429.70</td>\n",
       "      <td>215.53</td>\n",
       "      <td>6.54</td>\n",
       "      <td>727.46</td>\n",
       "    </tr>\n",
       "    <tr>\n",
       "      <th>3</th>\n",
       "      <td>Sony Computer Entertainment</td>\n",
       "      <td>265.22</td>\n",
       "      <td>187.72</td>\n",
       "      <td>74.10</td>\n",
       "      <td>607.50</td>\n",
       "    </tr>\n",
       "    <tr>\n",
       "      <th>4</th>\n",
       "      <td>Ubisoft</td>\n",
       "      <td>253.43</td>\n",
       "      <td>163.32</td>\n",
       "      <td>7.50</td>\n",
       "      <td>474.72</td>\n",
       "    </tr>\n",
       "    <tr>\n",
       "      <th>...</th>\n",
       "      <td>...</td>\n",
       "      <td>...</td>\n",
       "      <td>...</td>\n",
       "      <td>...</td>\n",
       "      <td>...</td>\n",
       "    </tr>\n",
       "    <tr>\n",
       "      <th>574</th>\n",
       "      <td>Boost On</td>\n",
       "      <td>0.00</td>\n",
       "      <td>0.00</td>\n",
       "      <td>0.01</td>\n",
       "      <td>0.01</td>\n",
       "    </tr>\n",
       "    <tr>\n",
       "      <th>575</th>\n",
       "      <td>EON Digital Entertainment</td>\n",
       "      <td>0.01</td>\n",
       "      <td>0.00</td>\n",
       "      <td>0.00</td>\n",
       "      <td>0.01</td>\n",
       "    </tr>\n",
       "    <tr>\n",
       "      <th>576</th>\n",
       "      <td>Ascaron Entertainment</td>\n",
       "      <td>0.00</td>\n",
       "      <td>0.01</td>\n",
       "      <td>0.00</td>\n",
       "      <td>0.01</td>\n",
       "    </tr>\n",
       "    <tr>\n",
       "      <th>577</th>\n",
       "      <td>Interworks Unlimited, Inc.</td>\n",
       "      <td>0.01</td>\n",
       "      <td>0.00</td>\n",
       "      <td>0.00</td>\n",
       "      <td>0.01</td>\n",
       "    </tr>\n",
       "    <tr>\n",
       "      <th>578</th>\n",
       "      <td>Media Entertainment</td>\n",
       "      <td>0.00</td>\n",
       "      <td>0.00</td>\n",
       "      <td>0.01</td>\n",
       "      <td>0.01</td>\n",
       "    </tr>\n",
       "  </tbody>\n",
       "</table>\n",
       "<p>579 rows × 5 columns</p>\n",
       "</div>"
      ],
      "text/plain": [
       "                       publisher  ventas_na  ventas_eu  ventas_jp  \\\n",
       "0                       Nintendo     816.87     418.74     455.42   \n",
       "1                Electronic Arts     595.07     371.27      14.04   \n",
       "2                     Activision     429.70     215.53       6.54   \n",
       "3    Sony Computer Entertainment     265.22     187.72      74.10   \n",
       "4                        Ubisoft     253.43     163.32       7.50   \n",
       "..                           ...        ...        ...        ...   \n",
       "574                     Boost On       0.00       0.00       0.01   \n",
       "575    EON Digital Entertainment       0.01       0.00       0.00   \n",
       "576        Ascaron Entertainment       0.00       0.01       0.00   \n",
       "577   Interworks Unlimited, Inc.       0.01       0.00       0.00   \n",
       "578          Media Entertainment       0.00       0.00       0.01   \n",
       "\n",
       "     ventas_total  \n",
       "0         1786.56  \n",
       "1         1110.32  \n",
       "2          727.46  \n",
       "3          607.50  \n",
       "4          474.72  \n",
       "..            ...  \n",
       "574          0.01  \n",
       "575          0.01  \n",
       "576          0.01  \n",
       "577          0.01  \n",
       "578          0.01  \n",
       "\n",
       "[579 rows x 5 columns]"
      ]
     },
     "execution_count": 61,
     "metadata": {},
     "output_type": "execute_result"
    }
   ],
   "source": [
    "sql_query = '''SELECT p.publisher, round(sum(f.na_sales)::numeric, 2) as Ventas_NA, round(sum(f.EU_Sales)::NUMERIC, 2) as Ventas_EU, round(sum(f.JP_Sales)::NUMERIC, 2) as Ventas_JP,round(sum(f.global_sales)::NUMERIC,2) as Ventas_Total\n",
    "                FROM fact_sales AS f\n",
    "                LEFT JOIN dim_publisher AS p\n",
    "                ON p.ID_Publisher=f.ID_Publisher\n",
    "                GROUP BY p.publisher\n",
    "                ORDER BY Ventas_Total DESC'''\n",
    "sales_publisher = pd.read_sql(sql_query, postgres_driver)\n",
    "sales_publisher"
   ]
  },
  {
   "attachments": {},
   "cell_type": "markdown",
   "metadata": {},
   "source": [
    "Se grafica la distribución del top 5 y sus ventas"
   ]
  },
  {
   "cell_type": "code",
   "execution_count": 62,
   "metadata": {},
   "outputs": [
    {
     "data": {
      "text/plain": [
       "<AxesSubplot:title={'center':'Ventas publicador y región'}, xlabel='publisher'>"
      ]
     },
     "execution_count": 62,
     "metadata": {},
     "output_type": "execute_result"
    },
    {
     "data": {
      "image/png": "[encoded data removed]",
      "text/plain": [
       "<Figure size 640x480 with 1 Axes>"
      ]
     },
     "metadata": {},
     "output_type": "display_data"
    }
   ],
   "source": [
    "data=sales_publisher.head()\n",
    "data.plot(x='publisher', y=['ventas_na', 'ventas_eu', 'ventas_jp', 'ventas_total'], kind= 'bar', title='Ventas publicador y región')"
   ]
  },
  {
   "attachments": {},
   "cell_type": "markdown",
   "metadata": {},
   "source": [
    "#### Ventas por videojuego"
   ]
  },
  {
   "cell_type": "code",
   "execution_count": 63,
   "metadata": {},
   "outputs": [
    {
     "data": {
      "text/html": [
       "<div>\n",
       "<style scoped>\n",
       "    .dataframe tbody tr th:only-of-type {\n",
       "        vertical-align: middle;\n",
       "    }\n",
       "\n",
       "    .dataframe tbody tr th {\n",
       "        vertical-align: top;\n",
       "    }\n",
       "\n",
       "    .dataframe thead th {\n",
       "        text-align: right;\n",
       "    }\n",
       "</style>\n",
       "<table border=\"1\" class=\"dataframe\">\n",
       "  <thead>\n",
       "    <tr style=\"text-align: right;\">\n",
       "      <th></th>\n",
       "      <th>name</th>\n",
       "      <th>year</th>\n",
       "      <th>ventas_total</th>\n",
       "    </tr>\n",
       "  </thead>\n",
       "  <tbody>\n",
       "    <tr>\n",
       "      <th>0</th>\n",
       "      <td>Wii Sports</td>\n",
       "      <td>2006</td>\n",
       "      <td>82.74</td>\n",
       "    </tr>\n",
       "    <tr>\n",
       "      <th>1</th>\n",
       "      <td>Super Mario Bros.</td>\n",
       "      <td>1985</td>\n",
       "      <td>40.24</td>\n",
       "    </tr>\n",
       "    <tr>\n",
       "      <th>2</th>\n",
       "      <td>Grand Theft Auto V</td>\n",
       "      <td>2013</td>\n",
       "      <td>37.78</td>\n",
       "    </tr>\n",
       "    <tr>\n",
       "      <th>3</th>\n",
       "      <td>Mario Kart Wii</td>\n",
       "      <td>2008</td>\n",
       "      <td>35.82</td>\n",
       "    </tr>\n",
       "    <tr>\n",
       "      <th>4</th>\n",
       "      <td>Wii Sports Resort</td>\n",
       "      <td>2009</td>\n",
       "      <td>33.00</td>\n",
       "    </tr>\n",
       "    <tr>\n",
       "      <th>...</th>\n",
       "      <td>...</td>\n",
       "      <td>...</td>\n",
       "      <td>...</td>\n",
       "    </tr>\n",
       "    <tr>\n",
       "      <th>12358</th>\n",
       "      <td>Resistance Dual Pack</td>\n",
       "      <td>2011</td>\n",
       "      <td>0.01</td>\n",
       "    </tr>\n",
       "    <tr>\n",
       "      <th>12359</th>\n",
       "      <td>Rosario to Vampire: Tanabata no Miss Youkai Ga...</td>\n",
       "      <td>2008</td>\n",
       "      <td>0.01</td>\n",
       "    </tr>\n",
       "    <tr>\n",
       "      <th>12360</th>\n",
       "      <td>Smart Boy's Winter Wonderland</td>\n",
       "      <td>2008</td>\n",
       "      <td>0.01</td>\n",
       "    </tr>\n",
       "    <tr>\n",
       "      <th>12361</th>\n",
       "      <td>Dr. Slump &amp; Arale-Chan</td>\n",
       "      <td>2008</td>\n",
       "      <td>0.01</td>\n",
       "    </tr>\n",
       "    <tr>\n",
       "      <th>12362</th>\n",
       "      <td>Hakuoki: Reimeiroku - Omouhase Kara</td>\n",
       "      <td>2015</td>\n",
       "      <td>0.01</td>\n",
       "    </tr>\n",
       "  </tbody>\n",
       "</table>\n",
       "<p>12363 rows × 3 columns</p>\n",
       "</div>"
      ],
      "text/plain": [
       "                                                    name  year  ventas_total\n",
       "0                                             Wii Sports  2006         82.74\n",
       "1                                      Super Mario Bros.  1985         40.24\n",
       "2                                     Grand Theft Auto V  2013         37.78\n",
       "3                                         Mario Kart Wii  2008         35.82\n",
       "4                                      Wii Sports Resort  2009         33.00\n",
       "...                                                  ...   ...           ...\n",
       "12358                               Resistance Dual Pack  2011          0.01\n",
       "12359  Rosario to Vampire: Tanabata no Miss Youkai Ga...  2008          0.01\n",
       "12360                      Smart Boy's Winter Wonderland  2008          0.01\n",
       "12361                             Dr. Slump & Arale-Chan  2008          0.01\n",
       "12362                Hakuoki: Reimeiroku - Omouhase Kara  2015          0.01\n",
       "\n",
       "[12363 rows x 3 columns]"
      ]
     },
     "execution_count": 63,
     "metadata": {},
     "output_type": "execute_result"
    }
   ],
   "source": [
    "sql_query = '''SELECT pr.name, cast (f.year as int), round(sum(f.global_sales)::NUMERIC,2) as Ventas_Total\n",
    "                FROM fact_sales AS f\n",
    "                LEFT JOIN dim_product AS pr\n",
    "                ON f.ID_Product=pr.ID_Product\n",
    "                GROUP BY f.year, pr.name\n",
    "                ORDER BY Ventas_Total DESC'''\n",
    "sales_name = pd.read_sql(sql_query, postgres_driver)\n",
    "sales_name"
   ]
  }
 ],
 "metadata": {
  "kernelspec": {
   "display_name": "Python 3",
   "language": "python",
   "name": "python3"
  },
  "language_info": {
   "codemirror_mode": {
    "name": "ipython",
    "version": 3
   },
   "file_extension": ".py",
   "mimetype": "text/x-python",
   "name": "python",
   "nbconvert_exporter": "python",
   "pygments_lexer": "ipython3",
   "version": "3.9.13"
  },
  "orig_nbformat": 4,
  "vscode": {
   "interpreter": {
    "hash": "7a15466719616190a2efdf83dc7907457ce9ab4ed30becfa487374260bfac4bc"
   }
  }
 },
 "nbformat": 4,
 "nbformat_minor": 2
}
